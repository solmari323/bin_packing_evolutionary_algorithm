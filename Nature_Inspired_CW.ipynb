{
 "cells": [
  {
   "cell_type": "code",
   "execution_count": 12,
   "metadata": {},
   "outputs": [],
   "source": [
    "#necessary imports\n",
    "import random as rand\n",
    "import numpy as np\n",
    "from tabulate import tabulate"
   ]
  },
  {
   "cell_type": "code",
   "execution_count": 2,
   "metadata": {},
   "outputs": [],
   "source": [
    "class Candidate:\n",
    "    def __init__(self, bins, items, chromosome=None):\n",
    "        \"\"\"\n",
    "        Initialise a candidate solution, as defined by the listed parameters, and immediatelly evaluate its fitness.\n",
    "        :param bins: The number of bins (defined by problem)\n",
    "        :param items: The items to be bin packed (defined by problem)\n",
    "        :param chromosome: A candidate solution depicting item distribution in bins\n",
    "        \"\"\"\n",
    "        \n",
    "        self.bins = bins\n",
    "        self.items = items\n",
    "        \n",
    "        # during generation of initial population, chromosomes are not specified and are instead randomly generated\n",
    "        if chromosome is None:\n",
    "            \n",
    "            # generate an array of random ints representing bin allocation\n",
    "            self.chromosome = np.random.randint(low=1, high=self.bins+1, size=len(self.items))\n",
    "        else:\n",
    "            self.chromosome = chromosome\n",
    "            \n",
    "        self.fitness = self.calculate_fitness()\n",
    "        \n",
    "    def calculate_fitness(self):\n",
    "        \"\"\"\n",
    "        A fitness function is defined here as the difference in weight of the heaviest bin and the lightest bin.\n",
    "        :returns: fitness as defined\n",
    "        \"\"\"\n",
    "        \n",
    "        bin_weights = {}\n",
    "        \n",
    "        # allocate item weights to bins using the chromosome (bin allocation)\n",
    "        for idx, allocation in enumerate(self.chromosome):\n",
    "            \n",
    "            if allocation not in bin_weights:\n",
    "                bin_weights[allocation] = 0\n",
    "                \n",
    "            # for each gene/allocation, add weight to appropriate bag count\n",
    "            bin_weights[allocation] += self.items[idx]\n",
    "        \n",
    "        \n",
    "        # calculate fitness and return\n",
    "        return max(bin_weights.values()) - min(bin_weights.values())\n",
    "    \n",
    "    def m_gene_mutation(self, m):\n",
    "        \"\"\"\n",
    "        Perform m-gene mutation on candidate solution and amend it's chromosome as appropriate\n",
    "        :param m: Number of times to perform the mutation\n",
    "        \"\"\"\n",
    "        # perform single gene mutation m times\n",
    "        for mutation in range(m):\n",
    "            choose_gene = rand.randint(0, len(self.chromosome)-1)\n",
    "            self.chromosome[choose_gene] = rand.randint(1,self.bins)\n",
    "        \n",
    "        \n",
    "        \n",
    "        \n",
    "def single_point_crossover(parent_a,parent_b):\n",
    "    \"\"\"\n",
    "    Perform single point crossover on parents and return resultant children\n",
    "    :param parent_a: A parent chromosome\n",
    "    :param parent_b: A parent chromosome\n",
    "    \n",
    "    :returns child_a: child chromosome\n",
    "    :returns child_b: child chromosome\n",
    "    \"\"\"\n",
    "    \n",
    "    # choose a random index for crossover point\n",
    "    crossover_point = rand.randint(1, len(parent_a)-2)\n",
    "    \n",
    "    # split parents down this crossover point\n",
    "    parent_a_start, parent_a_end = parent_a[:crossover_point], parent_a[crossover_point:]\n",
    "    parent_b_start, parent_b_end = parent_b[:crossover_point], parent_b[crossover_point:]\n",
    "    \n",
    "    # combine parent pieces to form children\n",
    "    child_a = np.hstack((parent_a_start, parent_b_end))\n",
    "    child_b = np.hstack((parent_a_end, parent_b_start))\n",
    "    \n",
    "    return child_a, child_b\n",
    "\n",
    "\n",
    "def binary_tournament(population):\n",
    "    \"\"\"\n",
    "    Perform binary tornament without replacement on population\n",
    "    :param population: List of candidate solution objects\n",
    "    \"\"\"\n",
    "    # select 2 random candidates\n",
    "    # here replace is set to false to avoid a tournament between the same object\n",
    "    candidates = np.random.choice(population, 2, replace=False)\n",
    "    \n",
    "    # return the candidate of smallest fitness value\n",
    "    return min(candidates, key=lambda candidate: candidate.fitness)\n",
    "\n",
    "def weakest_replacement(population, candidate):\n",
    "    \"\"\"\n",
    "    Find weakest current population memeber and compare them to the candidate. \n",
    "    Replace with candidate if candidate has a better fitness function.\n",
    "    \n",
    "    :param population:List of candidate solution objects\n",
    "    :param candidate: A candidate solution object\n",
    "    \"\"\"\n",
    "    \n",
    "    # Find the worst solution\n",
    "    worst_solution = max(population, key=lambda solution: solution.fitness)\n",
    "    \n",
    "    if candidate.fitness <= worst_solution.fitness:\n",
    "        population.remove(worst_solution)\n",
    "        population.append(candidate)\n",
    "        \n",
    "    return population\n",
    "\n",
    "\n",
    "def solve_bin(bins,items,m,population,crossover=True):\n",
    "    \"\"\"\n",
    "    Run the bin packing EA, with the specified parameters.\n",
    "    :param bins: The number of bins as defined in problem\n",
    "    :param items: The list of items as defined by problem\n",
    "    :param m: The mutation coefficient\n",
    "    :param population: The size of the population\n",
    "    :param crossover: Whether to include crossover\n",
    "    \"\"\"\n",
    "    \n",
    "    # initiate iterations\n",
    "    itr = 0\n",
    "\n",
    "    #generate random population\n",
    "    pop = [Candidate(bins=bins,items=items) for _ in range(population)]\n",
    "    \n",
    "    # as candidates are evaluated upon iteration increment iterations for each of the above candiates\n",
    "    itr += population\n",
    "    \n",
    "    while itr < 10000:\n",
    "        \n",
    "        # binary tournament to find parents\n",
    "        parent_a, parent_b = binary_tournament(pop), binary_tournament(pop)\n",
    "        \n",
    "        if crossover:           \n",
    "            # children chromosomes created via single point crossover\n",
    "            child_a, child_b = single_point_crossover(parent_a.chromosome,parent_b.chromosome)\n",
    "            \n",
    "        else:\n",
    "            #no crossover so children just inherit parents' chromosomes\n",
    "            child_a, child_b = parent_a.chromosome[:], parent_b.chromosome[:]\n",
    "            \n",
    "            \n",
    "        #create child objects using the above chromosomes\n",
    "        child_a = Candidate(bins=bins,items=items, chromosome = child_a)\n",
    "        child_b = Candidate(bins=bins,items=items, chromosome = child_b)\n",
    "        \n",
    "        #check for mutation coefficient (no need to call function if mutation set to 0)\n",
    "        if m != 0:\n",
    "            child_a.m_gene_mutation(m)\n",
    "            child_b.m_gene_mutation(m)\n",
    "        \n",
    "            # evaluate children\n",
    "            child_a.fitness= child_a.calculate_fitness()\n",
    "            child_b.fitness = child_b.calculate_fitness()\n",
    "        \n",
    "        #incrmeent evaluation counter for each child being evaluated\n",
    "        itr += 2 \n",
    "        \n",
    "        # update population using weakest replacement\n",
    "        pop = weakest_replacement(pop, child_a)\n",
    "        pop = weakest_replacement(pop, child_b)\n",
    "        \n",
    "    # return the candidate with minimal fitness function from the entire population\n",
    "    # this is the top candidate\n",
    "    return min(pop, key=lambda solution: solution.fitness).fitness"
   ]
  },
  {
   "cell_type": "code",
   "execution_count": 3,
   "metadata": {},
   "outputs": [],
   "source": [
    "# test runner\n",
    "def run_trial(trial_name,bins,items,mutation,crossover,population,n_trials):\n",
    "    \"\"\"\n",
    "    Run Tests with warying parameters.\n",
    "    \"\"\"\n",
    "    \n",
    "    results = []\n",
    "    \n",
    "    for n in range(n_trials):\n",
    "        print(\"Running Trial\", trial_name, \": \", n+1 , \"/\", n_trials)\n",
    "        # set random seed\n",
    "        rand.seed(n)\n",
    "        np.random.seed(n)\n",
    "        \n",
    "        result = solve_bin(bins,items,mutation,population,crossover=crossover)\n",
    "        results.append(result)\n",
    "    \n",
    "    print()\n",
    "    return results\n",
    "    \n",
    "    "
   ]
  },
  {
   "cell_type": "code",
   "execution_count": 4,
   "metadata": {},
   "outputs": [
    {
     "name": "stdout",
     "output_type": "stream",
     "text": [
      "Running Trial Crossover and M1 (Population 10) :  1 / 5\n",
      "Running Trial Crossover and M1 (Population 10) :  2 / 5\n",
      "Running Trial Crossover and M1 (Population 10) :  3 / 5\n",
      "Running Trial Crossover and M1 (Population 10) :  4 / 5\n",
      "Running Trial Crossover and M1 (Population 10) :  5 / 5\n",
      "\n",
      "Running Trial Crossover and M1 (Population 100) :  1 / 5\n",
      "Running Trial Crossover and M1 (Population 100) :  2 / 5\n",
      "Running Trial Crossover and M1 (Population 100) :  3 / 5\n",
      "Running Trial Crossover and M1 (Population 100) :  4 / 5\n",
      "Running Trial Crossover and M1 (Population 100) :  5 / 5\n",
      "\n",
      "Running Trial Crossover and M5 (Population 10) :  1 / 5\n",
      "Running Trial Crossover and M5 (Population 10) :  2 / 5\n",
      "Running Trial Crossover and M5 (Population 10) :  3 / 5\n",
      "Running Trial Crossover and M5 (Population 10) :  4 / 5\n",
      "Running Trial Crossover and M5 (Population 10) :  5 / 5\n",
      "\n",
      "Running Trial Crossover and M5 (Population 100) :  1 / 5\n",
      "Running Trial Crossover and M5 (Population 100) :  2 / 5\n",
      "Running Trial Crossover and M5 (Population 100) :  3 / 5\n",
      "Running Trial Crossover and M5 (Population 100) :  4 / 5\n",
      "Running Trial Crossover and M5 (Population 100) :  5 / 5\n",
      "\n",
      "Running Trial M1 (Population 10) :  1 / 5\n",
      "Running Trial M1 (Population 10) :  2 / 5\n",
      "Running Trial M1 (Population 10) :  3 / 5\n",
      "Running Trial M1 (Population 10) :  4 / 5\n",
      "Running Trial M1 (Population 10) :  5 / 5\n",
      "\n",
      "Running Trial Crossover and M0 (Population 10) :  1 / 5\n",
      "Running Trial Crossover and M0 (Population 10) :  2 / 5\n",
      "Running Trial Crossover and M0 (Population 10) :  3 / 5\n",
      "Running Trial Crossover and M0 (Population 10) :  4 / 5\n",
      "Running Trial Crossover and M0 (Population 10) :  5 / 5\n",
      "\n",
      "Running Trial Crossover and M1 (Population 10) :  1 / 5\n",
      "Running Trial Crossover and M1 (Population 10) :  2 / 5\n",
      "Running Trial Crossover and M1 (Population 10) :  3 / 5\n",
      "Running Trial Crossover and M1 (Population 10) :  4 / 5\n",
      "Running Trial Crossover and M1 (Population 10) :  5 / 5\n",
      "\n",
      "Running Trial Crossover and M1 (Population 100) :  1 / 5\n",
      "Running Trial Crossover and M1 (Population 100) :  2 / 5\n",
      "Running Trial Crossover and M1 (Population 100) :  3 / 5\n",
      "Running Trial Crossover and M1 (Population 100) :  4 / 5\n",
      "Running Trial Crossover and M1 (Population 100) :  5 / 5\n",
      "\n",
      "Running Trial Crossover and M5 (Population 10) :  1 / 5\n",
      "Running Trial Crossover and M5 (Population 10) :  2 / 5\n",
      "Running Trial Crossover and M5 (Population 10) :  3 / 5\n",
      "Running Trial Crossover and M5 (Population 10) :  4 / 5\n",
      "Running Trial Crossover and M5 (Population 10) :  5 / 5\n",
      "\n",
      "Running Trial Crossover and M5 (Population 100) :  1 / 5\n",
      "Running Trial Crossover and M5 (Population 100) :  2 / 5\n",
      "Running Trial Crossover and M5 (Population 100) :  3 / 5\n",
      "Running Trial Crossover and M5 (Population 100) :  4 / 5\n",
      "Running Trial Crossover and M5 (Population 100) :  5 / 5\n",
      "\n",
      "Running Trial M1 (Population 10) :  1 / 5\n",
      "Running Trial M1 (Population 10) :  2 / 5\n",
      "Running Trial M1 (Population 10) :  3 / 5\n",
      "Running Trial M1 (Population 10) :  4 / 5\n",
      "Running Trial M1 (Population 10) :  5 / 5\n",
      "\n",
      "Running Trial Crossover and M0 (Population 10) :  1 / 5\n",
      "Running Trial Crossover and M0 (Population 10) :  2 / 5\n",
      "Running Trial Crossover and M0 (Population 10) :  3 / 5\n",
      "Running Trial Crossover and M0 (Population 10) :  4 / 5\n",
      "Running Trial Crossover and M0 (Population 10) :  5 / 5\n",
      "\n"
     ]
    }
   ],
   "source": [
    "bpp1 = list(map(lambda x: 2*x, list(range(1, 501))))\n",
    "bpp2 = list(map(lambda x: 2*x**2 , list(range(1, 501))))\n",
    "\n",
    "bpp1_results = [[],[],[],[],[],[]]\n",
    "bpp2_results = [[],[],[],[],[],[]]\n",
    "\n",
    "bpp1_results[0] = run_trial(\"Crossover and M1 (Population 10)\", 10, bpp1, 1, True, 10, 5)\n",
    "bpp1_results[1] = run_trial(\"Crossover and M1 (Population 100)\", 10, bpp1, 1, True, 100, 5)\n",
    "bpp1_results[2] = run_trial(\"Crossover and M5 (Population 10)\", 10, bpp1, 5, True, 10, 5)\n",
    "bpp1_results[3] = run_trial(\"Crossover and M5 (Population 100)\", 10, bpp1, 5, True, 100, 5)\n",
    "bpp1_results[4] = run_trial(\"M1 (Population 10)\", 10, bpp1, 5, False, 10, 5)\n",
    "bpp1_results[5] = run_trial(\"Crossover and M0 (Population 10)\", 10, bpp1, 0, True, 10, 5)\n",
    "\n",
    "bpp2_results[0] = run_trial(\"Crossover and M1 (Population 10)\", 100, bpp2, 1, True, 10, 5)\n",
    "bpp2_results[1] = run_trial(\"Crossover and M1 (Population 100)\", 100, bpp2, 1, True, 100, 5)\n",
    "bpp2_results[2] = run_trial(\"Crossover and M5 (Population 10)\", 100, bpp2, 5, True, 10, 5)\n",
    "bpp2_results[3] = run_trial(\"Crossover and M5 (Population 100)\", 100, bpp2, 5, True, 100, 5)\n",
    "bpp2_results[4] = run_trial(\"M1 (Population 10)\", 100, bpp2, 5, False, 10, 5)\n",
    "bpp2_results[5] = run_trial(\"Crossover and M0 (Population 10)\", 100, bpp2, 0, True, 10, 5)\n"
   ]
  },
  {
   "cell_type": "code",
   "execution_count": 5,
   "metadata": {},
   "outputs": [
    {
     "name": "stdout",
     "output_type": "stream",
     "text": [
      "Average fitness for bpp1: 51.6\n",
      "Average fitness for bpp1: 186.0\n",
      "Average fitness for bpp1: 437.6\n",
      "Average fitness for bpp1: 773.6\n",
      "Average fitness for bpp1: 3641.6\n",
      "Average fitness for bpp1: 3640.8\n"
     ]
    }
   ],
   "source": [
    "# print average fitness for each trial(bpp1)\n",
    "for result in bpp1_results:\n",
    "    print(\"Average fitness for bpp1:\", (sum(result)/5) )"
   ]
  },
  {
   "cell_type": "code",
   "execution_count": 8,
   "metadata": {},
   "outputs": [
    {
     "name": "stdout",
     "output_type": "stream",
     "text": [
      "Average fitness for bpp2: 674310.8\n",
      "Average fitness for bpp2: 1077790.8\n",
      "Average fitness for bpp2: 632706.8\n",
      "Average fitness for bpp2: 967680.8\n",
      "Average fitness for bpp2: 1584986.8\n",
      "Average fitness for bpp2: 1685891.6\n"
     ]
    }
   ],
   "source": [
    "# print average fitness for each trial(bpp2)\n",
    "for result in bpp2_results:\n",
    "    print(\"Average fitness for bpp2:\", (sum(result)/5) )"
   ]
  },
  {
   "cell_type": "code",
   "execution_count": 16,
   "metadata": {},
   "outputs": [
    {
     "name": "stdout",
     "output_type": "stream",
     "text": [
      "                       Trial 1    Trial 2    Trial 3    Trial 4    Trial 5\n",
      "-------------------  ---------  ---------  ---------  ---------  ---------\n",
      "Population 10 (M1)          46         70         44         36         62\n",
      "Population 100 (M1)        238        196        164        176        156\n"
     ]
    }
   ],
   "source": [
    "# comparison of different population and small mutation\n",
    "header = [\"Trial 1\",\"Trial 2\",\"Trial 3\",\"Trial 4\",\"Trial 5\" ]\n",
    "table = ([[\"Population 10 (M1)\", *bpp1_results[0]],[\"Population 100 (M1)\", *bpp1_results[1]]])\n",
    "print(tabulate(table, headers=header))"
   ]
  },
  {
   "cell_type": "code",
   "execution_count": 22,
   "metadata": {},
   "outputs": [
    {
     "name": "stdout",
     "output_type": "stream",
     "text": [
      "                       Trial 1    Trial 2    Trial 3    Trial 4    Trial 5\n",
      "-------------------  ---------  ---------  ---------  ---------  ---------\n",
      "Population 10 (M5)         372        566        436        282        532\n",
      "Population 100 (M5)        646        844        812        766        800\n"
     ]
    }
   ],
   "source": [
    "# comparison of different population and large mutation\n",
    "header = [\"Trial 1\",\"Trial 2\",\"Trial 3\",\"Trial 4\",\"Trial 5\" ]\n",
    "table = ([[\"Population 10 (M5)\", *bpp1_results[2]],[\"Population 100 (M5)\", *bpp1_results[3]]])\n",
    "print(tabulate(table, headers=header))"
   ]
  },
  {
   "cell_type": "code",
   "execution_count": 18,
   "metadata": {},
   "outputs": [
    {
     "name": "stdout",
     "output_type": "stream",
     "text": [
      "                      Trial 1    Trial 2    Trial 3    Trial 4    Trial 5\n",
      "------------------  ---------  ---------  ---------  ---------  ---------\n",
      "Population 10 (M1)         46         70         44         36         62\n",
      "Population 10 (M5)        372        566        436        282        532\n"
     ]
    }
   ],
   "source": [
    "# comparing different mutation on small population\n",
    "header = [\"Trial 1\",\"Trial 2\",\"Trial 3\",\"Trial 4\",\"Trial 5\" ]\n",
    "table = ([[\"Population 10 (M1)\", *bpp1_results[0]],[\"Population 10 (M5)\", *bpp1_results[2]]])\n",
    "print(tabulate(table, headers=header))"
   ]
  },
  {
   "cell_type": "code",
   "execution_count": 19,
   "metadata": {},
   "outputs": [
    {
     "name": "stdout",
     "output_type": "stream",
     "text": [
      "                      Trial 1    Trial 2    Trial 3    Trial 4    Trial 5\n",
      "------------------  ---------  ---------  ---------  ---------  ---------\n",
      "Population 10 (M1)        238        196        164        176        156\n",
      "Population 10 (M5)        646        844        812        766        800\n"
     ]
    }
   ],
   "source": [
    "# comparing different mutation on large population\n",
    "header = [\"Trial 1\",\"Trial 2\",\"Trial 3\",\"Trial 4\",\"Trial 5\" ]\n",
    "table = ([[\"Population 100 (M1)\", *bpp1_results[1]],[\"Population 100 (M5)\", *bpp1_results[3]]])\n",
    "print(tabulate(table, headers=header))"
   ]
  },
  {
   "cell_type": "code",
   "execution_count": 24,
   "metadata": {},
   "outputs": [
    {
     "name": "stdout",
     "output_type": "stream",
     "text": [
      "                Trial 1    Trial 2    Trial 3    Trial 4    Trial 5\n",
      "------------  ---------  ---------  ---------  ---------  ---------\n",
      "Both Present         46         70         44         36         62\n",
      "No Crossover       2800       4200       3618       4256       3334\n",
      "No Mutation        1878       2326       6514       3694       3792\n"
     ]
    }
   ],
   "source": [
    "#comparing both additions, lack of crossover, lack of mutation\n",
    "header = [\"Trial 1\",\"Trial 2\",\"Trial 3\",\"Trial 4\",\"Trial 5\" ]\n",
    "table = ([[\"Both Present\", *bpp1_results[0]],[\"No Crossover\", *bpp1_results[4]],[\"No Mutation\", *bpp1_results[5]]])\n",
    "print(tabulate(table, headers=header))"
   ]
  },
  {
   "cell_type": "code",
   "execution_count": 35,
   "metadata": {},
   "outputs": [
    {
     "name": "stdout",
     "output_type": "stream",
     "text": [
      "Problem 1                            Trial 1    Trial 2    Trial 3    Trial 4    Trial 5    Average\n",
      "---------------------------------  ---------  ---------  ---------  ---------  ---------  ---------\n",
      "Crossover and M1 (Population 10)          46         70         44         36         62       51.6\n",
      "Crossover and M1 (Population 100)        238        196        164        176        156      186\n",
      "Crossover and M5 (Population 10)         372        566        436        282        532      437.6\n",
      "Crossover and M5 (Population 100)        646        844        812        766        800      773.6\n",
      "M1 (Population 10)                      2800       4200       3618       4256       3334     3641.6\n",
      "Crossover and M0 (Population 10)        1878       2326       6514       3694       3792     3640.8\n",
      "--------------------------------------------------------------------------------------------------------------------\n",
      "Problem 2                            Trial 1    Trial 2    Trial 3    Trial 4    Trial 5           Average\n",
      "---------------------------------  ---------  ---------  ---------  ---------  ---------  ----------------\n",
      "Crossover and M1 (Population 10)      649598     680342     751706     551926     737982  674311\n",
      "Crossover and M1 (Population 100)    1010906    1047460    1181646    1056094    1092848       1.07779e+06\n",
      "Crossover and M5 (Population 10)      588370     696932     606158     619384     652690  632707\n",
      "Crossover and M5 (Population 100)     947224     939650    1050378     903908     997244  967681\n",
      "M1 (Population 10)                   1629790    1602934    1543898    1556698    1591614       1.58499e+06\n",
      "Crossover and M0 (Population 10)     1715614    1768070    1588922    1740002    1616850       1.68589e+06\n"
     ]
    }
   ],
   "source": [
    "#all results\n",
    "header = [\"Problem 1\",\"Trial 1\",\"Trial 2\",\"Trial 3\",\"Trial 4\",\"Trial 5\", \"Average\" ]\n",
    "table1 = ([[\"Crossover and M1 (Population 10)\", *bpp1_results[0], sum(bpp1_results[0])/5],\n",
    "          [\"Crossover and M1 (Population 100)\", *bpp1_results[1],sum(bpp1_results[1])/5],\n",
    "          [\"Crossover and M5 (Population 10)\", *bpp1_results[2],sum(bpp1_results[2])/5],\n",
    "          [\"Crossover and M5 (Population 100)\", *bpp1_results[3],sum(bpp1_results[3])/5],\n",
    "          [\"M1 (Population 10)\", *bpp1_results[4],sum(bpp1_results[4])/5],\n",
    "          [\"Crossover and M0 (Population 10)\", *bpp1_results[5],sum(bpp1_results[5])/5],\n",
    "          ])\n",
    "print(tabulate(table1, headers=header))\n",
    "print(\"--------------------------------------------------------------------------------------------------------------------\")\n",
    "           \n",
    "header = [\"Problem 2\",\"Trial 1\",\"Trial 2\",\"Trial 3\",\"Trial 4\",\"Trial 5\", \"Average\" ]\n",
    "table2 = ([[\"Crossover and M1 (Population 10)\", *bpp2_results[0],sum(bpp2_results[0])/5],\n",
    "          [\"Crossover and M1 (Population 100)\", *bpp2_results[1],sum(bpp2_results[1])/5],\n",
    "          [\"Crossover and M5 (Population 10)\", *bpp2_results[2],sum(bpp2_results[2])/5],\n",
    "          [\"Crossover and M5 (Population 100)\", *bpp2_results[3],sum(bpp2_results[3])/5],\n",
    "          [\"M1 (Population 10)\", *bpp2_results[4],sum(bpp2_results[4])/5],\n",
    "          [\"Crossover and M0 (Population 10)\", *bpp2_results[5],sum(bpp2_results[5])/5],\n",
    "          ])\n",
    "print(tabulate(table2, headers=header))"
   ]
  }
 ],
 "metadata": {
  "kernelspec": {
   "display_name": "Python 3",
   "language": "python",
   "name": "python3"
  },
  "language_info": {
   "codemirror_mode": {
    "name": "ipython",
    "version": 3
   },
   "file_extension": ".py",
   "mimetype": "text/x-python",
   "name": "python",
   "nbconvert_exporter": "python",
   "pygments_lexer": "ipython3",
   "version": "3.8.3"
  }
 },
 "nbformat": 4,
 "nbformat_minor": 4
}
